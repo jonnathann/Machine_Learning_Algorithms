{
 "cells": [
  {
   "cell_type": "markdown",
   "metadata": {},
   "source": [
    "# Importants imports"
   ]
  },
  {
   "cell_type": "code",
   "execution_count": 270,
   "metadata": {},
   "outputs": [],
   "source": [
    "import numpy as np\n",
    "import matplotlib.pyplot as plt\n",
    "import pandas as pd\n",
    "from sklearn import metrics as mt\n",
    "from sklearn.model_selection import train_test_split"
   ]
  },
  {
   "cell_type": "markdown",
   "metadata": {},
   "source": [
    "# Iris dataset"
   ]
  },
  {
   "cell_type": "code",
   "execution_count": 265,
   "metadata": {},
   "outputs": [
    {
     "data": {
      "text/html": [
       "<div>\n",
       "<style scoped>\n",
       "    .dataframe tbody tr th:only-of-type {\n",
       "        vertical-align: middle;\n",
       "    }\n",
       "\n",
       "    .dataframe tbody tr th {\n",
       "        vertical-align: top;\n",
       "    }\n",
       "\n",
       "    .dataframe thead th {\n",
       "        text-align: right;\n",
       "    }\n",
       "</style>\n",
       "<table border=\"1\" class=\"dataframe\">\n",
       "  <thead>\n",
       "    <tr style=\"text-align: right;\">\n",
       "      <th></th>\n",
       "      <th>AT1</th>\n",
       "      <th>AT2</th>\n",
       "      <th>AT3</th>\n",
       "      <th>AT4</th>\n",
       "      <th>Label</th>\n",
       "    </tr>\n",
       "  </thead>\n",
       "  <tbody>\n",
       "    <tr>\n",
       "      <th>0</th>\n",
       "      <td>5.1</td>\n",
       "      <td>3.5</td>\n",
       "      <td>1.4</td>\n",
       "      <td>0.2</td>\n",
       "      <td>0</td>\n",
       "    </tr>\n",
       "    <tr>\n",
       "      <th>1</th>\n",
       "      <td>4.9</td>\n",
       "      <td>3.0</td>\n",
       "      <td>1.4</td>\n",
       "      <td>0.2</td>\n",
       "      <td>0</td>\n",
       "    </tr>\n",
       "    <tr>\n",
       "      <th>2</th>\n",
       "      <td>4.7</td>\n",
       "      <td>3.2</td>\n",
       "      <td>1.3</td>\n",
       "      <td>0.2</td>\n",
       "      <td>0</td>\n",
       "    </tr>\n",
       "    <tr>\n",
       "      <th>3</th>\n",
       "      <td>4.6</td>\n",
       "      <td>3.1</td>\n",
       "      <td>1.5</td>\n",
       "      <td>0.2</td>\n",
       "      <td>0</td>\n",
       "    </tr>\n",
       "    <tr>\n",
       "      <th>4</th>\n",
       "      <td>5.0</td>\n",
       "      <td>3.6</td>\n",
       "      <td>1.4</td>\n",
       "      <td>0.2</td>\n",
       "      <td>0</td>\n",
       "    </tr>\n",
       "  </tbody>\n",
       "</table>\n",
       "</div>"
      ],
      "text/plain": [
       "   AT1  AT2  AT3  AT4  Label\n",
       "0  5.1  3.5  1.4  0.2      0\n",
       "1  4.9  3.0  1.4  0.2      0\n",
       "2  4.7  3.2  1.3  0.2      0\n",
       "3  4.6  3.1  1.5  0.2      0\n",
       "4  5.0  3.6  1.4  0.2      0"
      ]
     },
     "execution_count": 265,
     "metadata": {},
     "output_type": "execute_result"
    }
   ],
   "source": [
    "df = pd.read_csv('iris.data', sep = ',', names = ['AT1', 'AT2', 'AT3', 'AT4', 'Label'], header=None)\n",
    "df.replace({'Iris-setosa': 0, 'Iris-versicolor': 1, 'Iris-virginica': 2}, inplace = True)\n",
    "Xm = df.drop(['Label'], axis = 1)\n",
    "Ym = df[['Label']]\n",
    "df.head()"
   ]
  },
  {
   "cell_type": "code",
   "execution_count": 266,
   "metadata": {},
   "outputs": [
    {
     "data": {
      "text/html": [
       "<div>\n",
       "<style scoped>\n",
       "    .dataframe tbody tr th:only-of-type {\n",
       "        vertical-align: middle;\n",
       "    }\n",
       "\n",
       "    .dataframe tbody tr th {\n",
       "        vertical-align: top;\n",
       "    }\n",
       "\n",
       "    .dataframe thead th {\n",
       "        text-align: right;\n",
       "    }\n",
       "</style>\n",
       "<table border=\"1\" class=\"dataframe\">\n",
       "  <thead>\n",
       "    <tr style=\"text-align: right;\">\n",
       "      <th></th>\n",
       "      <th>AT1</th>\n",
       "      <th>AT2</th>\n",
       "      <th>AT3</th>\n",
       "      <th>AT4</th>\n",
       "      <th>y1</th>\n",
       "      <th>y2</th>\n",
       "      <th>y3</th>\n",
       "    </tr>\n",
       "  </thead>\n",
       "  <tbody>\n",
       "    <tr>\n",
       "      <th>0</th>\n",
       "      <td>5.1</td>\n",
       "      <td>3.5</td>\n",
       "      <td>1.4</td>\n",
       "      <td>0.2</td>\n",
       "      <td>1</td>\n",
       "      <td>0</td>\n",
       "      <td>0</td>\n",
       "    </tr>\n",
       "    <tr>\n",
       "      <th>1</th>\n",
       "      <td>4.9</td>\n",
       "      <td>3.0</td>\n",
       "      <td>1.4</td>\n",
       "      <td>0.2</td>\n",
       "      <td>1</td>\n",
       "      <td>0</td>\n",
       "      <td>0</td>\n",
       "    </tr>\n",
       "    <tr>\n",
       "      <th>2</th>\n",
       "      <td>4.7</td>\n",
       "      <td>3.2</td>\n",
       "      <td>1.3</td>\n",
       "      <td>0.2</td>\n",
       "      <td>1</td>\n",
       "      <td>0</td>\n",
       "      <td>0</td>\n",
       "    </tr>\n",
       "    <tr>\n",
       "      <th>3</th>\n",
       "      <td>4.6</td>\n",
       "      <td>3.1</td>\n",
       "      <td>1.5</td>\n",
       "      <td>0.2</td>\n",
       "      <td>1</td>\n",
       "      <td>0</td>\n",
       "      <td>0</td>\n",
       "    </tr>\n",
       "    <tr>\n",
       "      <th>4</th>\n",
       "      <td>5.0</td>\n",
       "      <td>3.6</td>\n",
       "      <td>1.4</td>\n",
       "      <td>0.2</td>\n",
       "      <td>1</td>\n",
       "      <td>0</td>\n",
       "      <td>0</td>\n",
       "    </tr>\n",
       "  </tbody>\n",
       "</table>\n",
       "</div>"
      ],
      "text/plain": [
       "   AT1  AT2  AT3  AT4  y1  y2  y3\n",
       "0  5.1  3.5  1.4  0.2   1   0   0\n",
       "1  4.9  3.0  1.4  0.2   1   0   0\n",
       "2  4.7  3.2  1.3  0.2   1   0   0\n",
       "3  4.6  3.1  1.5  0.2   1   0   0\n",
       "4  5.0  3.6  1.4  0.2   1   0   0"
      ]
     },
     "execution_count": 266,
     "metadata": {},
     "output_type": "execute_result"
    }
   ],
   "source": [
    "df = pd.read_csv('iris.data', sep = ',', names = ['AT1', 'AT2', 'AT3', 'AT4', 'Label'], header=None)\n",
    "df = pd.get_dummies(df)\n",
    "df.rename(columns = {'Label_Iris-setosa': 'y1', 'Label_Iris-versicolor': 'y2', 'Label_Iris-virginica': 'y3'}, inplace = True)\n",
    "Xb = df.drop(['y1', 'y2', 'y3'], axis = 1)\n",
    "Yb = df[['y1', 'y2', 'y3']]\n",
    "df.head()"
   ]
  },
  {
   "cell_type": "markdown",
   "metadata": {},
   "source": [
    "# Sets 70% from training and 30% from test"
   ]
  },
  {
   "cell_type": "code",
   "execution_count": 293,
   "metadata": {},
   "outputs": [],
   "source": [
    "xm_train, xm_test, ym_train, ym_test = train_test_split(Xm, Ym, test_size=0.33, random_state=42)"
   ]
  },
  {
   "cell_type": "code",
   "execution_count": 294,
   "metadata": {},
   "outputs": [],
   "source": [
    "xb_train, xb_test, yb_train, yb_test = train_test_split(Xb, Yb, test_size=0.33, random_state=42)"
   ]
  },
  {
   "cell_type": "markdown",
   "metadata": {},
   "source": [
    "# 1 - K-Nearest Neighbors Classifier - KNN"
   ]
  },
  {
   "cell_type": "code",
   "execution_count": 210,
   "metadata": {},
   "outputs": [],
   "source": [
    "from sklearn.neighbors import KNeighborsClassifier"
   ]
  },
  {
   "cell_type": "code",
   "execution_count": 332,
   "metadata": {},
   "outputs": [
    {
     "name": "stdout",
     "output_type": "stream",
     "text": [
      "Accuracy: 98.0 %\n"
     ]
    }
   ],
   "source": [
    "#Classifier\n",
    "knn = KNeighborsClassifier(n_neighbors= 3)\n",
    "knn.fit(xm_train, np.ravel(ym_train))\n",
    "\n",
    "#Predicts\n",
    "print('Accuracy:', (mt.accuracy_score(ym_test, knn.predict(xm_test)) * 100), '%')"
   ]
  },
  {
   "cell_type": "markdown",
   "metadata": {},
   "source": [
    "# 2 - Multilayer Perceptron - MLP"
   ]
  },
  {
   "cell_type": "code",
   "execution_count": 322,
   "metadata": {},
   "outputs": [
    {
     "name": "stdout",
     "output_type": "stream",
     "text": [
      "Epoch 1/100\n",
      "100/100 [==============================] - 8s 77ms/step - loss: 0.3640 - acc: 0.3500\n",
      "Epoch 2/100\n",
      "100/100 [==============================] - 1s 7ms/step - loss: 0.2198 - acc: 0.3500\n",
      "Epoch 3/100\n",
      "100/100 [==============================] - 1s 7ms/step - loss: 0.1655 - acc: 0.7400\n",
      "Epoch 4/100\n",
      "100/100 [==============================] - 1s 8ms/step - loss: 0.1393 - acc: 0.7300\n",
      "Epoch 5/100\n",
      "100/100 [==============================] - 1s 6ms/step - loss: 0.1234 - acc: 0.7300\n",
      "Epoch 6/100\n",
      "100/100 [==============================] - 1s 9ms/step - loss: 0.1137 - acc: 0.7900\n",
      "Epoch 7/100\n",
      "100/100 [==============================] - 1s 6ms/step - loss: 0.1077 - acc: 0.8100\n",
      "Epoch 8/100\n",
      "100/100 [==============================] - 1s 7ms/step - loss: 0.1040 - acc: 0.8800\n",
      "Epoch 9/100\n",
      "100/100 [==============================] - 1s 6ms/step - loss: 0.1004 - acc: 0.8400\n",
      "Epoch 10/100\n",
      "100/100 [==============================] - 1s 5ms/step - loss: 0.0975 - acc: 0.8800\n",
      "Epoch 11/100\n",
      "100/100 [==============================] - 1s 5ms/step - loss: 0.0944 - acc: 0.8700\n",
      "Epoch 12/100\n",
      "100/100 [==============================] - 0s 5ms/step - loss: 0.0927 - acc: 0.8800\n",
      "Epoch 13/100\n",
      "100/100 [==============================] - 0s 5ms/step - loss: 0.0907 - acc: 0.9500\n",
      "Epoch 14/100\n",
      "100/100 [==============================] - 0s 4ms/step - loss: 0.0888 - acc: 0.9000\n",
      "Epoch 15/100\n",
      "100/100 [==============================] - 1s 5ms/step - loss: 0.0845 - acc: 0.9300\n",
      "Epoch 16/100\n",
      "100/100 [==============================] - 0s 4ms/step - loss: 0.0820 - acc: 0.9600\n",
      "Epoch 17/100\n",
      "100/100 [==============================] - 0s 5ms/step - loss: 0.0802 - acc: 0.9500\n",
      "Epoch 18/100\n",
      "100/100 [==============================] - 1s 6ms/step - loss: 0.0796 - acc: 0.9400\n",
      "Epoch 19/100\n",
      "100/100 [==============================] - 0s 4ms/step - loss: 0.0756 - acc: 0.9500\n",
      "Epoch 20/100\n",
      "100/100 [==============================] - 1s 5ms/step - loss: 0.0726 - acc: 0.9500\n",
      "Epoch 21/100\n",
      "100/100 [==============================] - 1s 7ms/step - loss: 0.0702 - acc: 0.9500\n",
      "Epoch 22/100\n",
      "100/100 [==============================] - 1s 6ms/step - loss: 0.0668 - acc: 0.9600\n",
      "Epoch 23/100\n",
      "100/100 [==============================] - 1s 6ms/step - loss: 0.0655 - acc: 0.9500\n",
      "Epoch 24/100\n",
      "100/100 [==============================] - 1s 6ms/step - loss: 0.0637 - acc: 0.9700\n",
      "Epoch 25/100\n",
      "100/100 [==============================] - 1s 5ms/step - loss: 0.0600 - acc: 0.9300\n",
      "Epoch 26/100\n",
      "100/100 [==============================] - 1s 5ms/step - loss: 0.0579 - acc: 0.9800\n",
      "Epoch 27/100\n",
      "100/100 [==============================] - 0s 5ms/step - loss: 0.0554 - acc: 0.9600\n",
      "Epoch 28/100\n",
      "100/100 [==============================] - 1s 5ms/step - loss: 0.0543 - acc: 0.9500\n",
      "Epoch 29/100\n",
      "100/100 [==============================] - 0s 5ms/step - loss: 0.0527 - acc: 0.9400\n",
      "Epoch 30/100\n",
      "100/100 [==============================] - 0s 4ms/step - loss: 0.0514 - acc: 0.9600\n",
      "Epoch 31/100\n",
      "100/100 [==============================] - 1s 6ms/step - loss: 0.0490 - acc: 0.9500\n",
      "Epoch 32/100\n",
      "100/100 [==============================] - 1s 7ms/step - loss: 0.0470 - acc: 0.9400\n",
      "Epoch 33/100\n",
      "100/100 [==============================] - 0s 5ms/step - loss: 0.0456 - acc: 0.9500\n",
      "Epoch 34/100\n",
      "100/100 [==============================] - 1s 6ms/step - loss: 0.0446 - acc: 0.9500\n",
      "Epoch 35/100\n",
      "100/100 [==============================] - 0s 5ms/step - loss: 0.0417 - acc: 0.9500\n",
      "Epoch 36/100\n",
      "100/100 [==============================] - 1s 6ms/step - loss: 0.0403 - acc: 0.9600\n",
      "Epoch 37/100\n",
      "100/100 [==============================] - 1s 8ms/step - loss: 0.0397 - acc: 0.9500\n",
      "Epoch 38/100\n",
      "100/100 [==============================] - 1s 6ms/step - loss: 0.0393 - acc: 0.9700\n",
      "Epoch 39/100\n",
      "100/100 [==============================] - 1s 8ms/step - loss: 0.0389 - acc: 0.9500\n",
      "Epoch 40/100\n",
      "100/100 [==============================] - 1s 6ms/step - loss: 0.0378 - acc: 0.9400\n",
      "Epoch 41/100\n",
      "100/100 [==============================] - 1s 6ms/step - loss: 0.0368 - acc: 0.9700\n",
      "Epoch 42/100\n",
      "100/100 [==============================] - 1s 7ms/step - loss: 0.0344 - acc: 0.9500\n",
      "Epoch 43/100\n",
      "100/100 [==============================] - 1s 7ms/step - loss: 0.0331 - acc: 0.9600\n",
      "Epoch 44/100\n",
      "100/100 [==============================] - 1s 8ms/step - loss: 0.0333 - acc: 0.9600\n",
      "Epoch 45/100\n",
      "100/100 [==============================] - 1s 7ms/step - loss: 0.0320 - acc: 0.9600\n",
      "Epoch 46/100\n",
      "100/100 [==============================] - 1s 7ms/step - loss: 0.0306 - acc: 0.9600\n",
      "Epoch 47/100\n",
      "100/100 [==============================] - 1s 5ms/step - loss: 0.0319 - acc: 0.9500\n",
      "Epoch 48/100\n",
      "100/100 [==============================] - 0s 5ms/step - loss: 0.0296 - acc: 0.9700\n",
      "Epoch 49/100\n",
      "100/100 [==============================] - 1s 6ms/step - loss: 0.0317 - acc: 0.9300\n",
      "Epoch 50/100\n",
      "100/100 [==============================] - 1s 6ms/step - loss: 0.0299 - acc: 0.9600\n",
      "Epoch 51/100\n",
      "100/100 [==============================] - 1s 6ms/step - loss: 0.0297 - acc: 0.9600\n",
      "Epoch 52/100\n",
      "100/100 [==============================] - 1s 8ms/step - loss: 0.0277 - acc: 0.9500\n",
      "Epoch 53/100\n",
      "100/100 [==============================] - 1s 7ms/step - loss: 0.0272 - acc: 0.9600\n",
      "Epoch 54/100\n",
      "100/100 [==============================] - 1s 8ms/step - loss: 0.0271 - acc: 0.9400\n",
      "Epoch 55/100\n",
      "100/100 [==============================] - 1s 8ms/step - loss: 0.0265 - acc: 0.9600\n",
      "Epoch 56/100\n",
      "100/100 [==============================] - 1s 8ms/step - loss: 0.0270 - acc: 0.9600- ETA: 0s - loss: 0.0484 \n",
      "Epoch 57/100\n",
      "100/100 [==============================] - 1s 7ms/step - loss: 0.0276 - acc: 0.9600\n",
      "Epoch 58/100\n",
      "100/100 [==============================] - 1s 6ms/step - loss: 0.0252 - acc: 0.9700\n",
      "Epoch 59/100\n",
      "100/100 [==============================] - 1s 8ms/step - loss: 0.0272 - acc: 0.9600\n",
      "Epoch 60/100\n",
      "100/100 [==============================] - 1s 7ms/step - loss: 0.0257 - acc: 0.9700\n",
      "Epoch 61/100\n",
      "100/100 [==============================] - 1s 7ms/step - loss: 0.0253 - acc: 0.9700\n",
      "Epoch 62/100\n",
      "100/100 [==============================] - 1s 10ms/step - loss: 0.0249 - acc: 0.9700\n",
      "Epoch 63/100\n",
      "100/100 [==============================] - 1s 8ms/step - loss: 0.0244 - acc: 0.9600\n",
      "Epoch 64/100\n",
      "100/100 [==============================] - 1s 6ms/step - loss: 0.0272 - acc: 0.9300\n",
      "Epoch 65/100\n",
      "100/100 [==============================] - 1s 6ms/step - loss: 0.0247 - acc: 0.9600\n",
      "Epoch 66/100\n",
      "100/100 [==============================] - 1s 6ms/step - loss: 0.0238 - acc: 0.9500\n",
      "Epoch 67/100\n",
      "100/100 [==============================] - 1s 7ms/step - loss: 0.0234 - acc: 0.9600\n",
      "Epoch 68/100\n",
      "100/100 [==============================] - 1s 7ms/step - loss: 0.0236 - acc: 0.9600\n",
      "Epoch 69/100\n",
      "100/100 [==============================] - 1s 7ms/step - loss: 0.0236 - acc: 0.9600\n",
      "Epoch 70/100\n",
      "100/100 [==============================] - 1s 6ms/step - loss: 0.0230 - acc: 0.9600\n",
      "Epoch 71/100\n",
      "100/100 [==============================] - 1s 6ms/step - loss: 0.0236 - acc: 0.9600\n",
      "Epoch 72/100\n",
      "100/100 [==============================] - 1s 6ms/step - loss: 0.0233 - acc: 0.9400\n",
      "Epoch 73/100\n",
      "100/100 [==============================] - 1s 6ms/step - loss: 0.0267 - acc: 0.9500\n",
      "Epoch 74/100\n",
      "100/100 [==============================] - 1s 7ms/step - loss: 0.0236 - acc: 0.9700\n",
      "Epoch 75/100\n",
      "100/100 [==============================] - 1s 6ms/step - loss: 0.0217 - acc: 0.9600\n",
      "Epoch 76/100\n",
      "100/100 [==============================] - 1s 6ms/step - loss: 0.0225 - acc: 0.9500\n",
      "Epoch 77/100\n",
      "100/100 [==============================] - 1s 6ms/step - loss: 0.0225 - acc: 0.9600\n",
      "Epoch 78/100\n",
      "100/100 [==============================] - 1s 6ms/step - loss: 0.0213 - acc: 0.9600\n",
      "Epoch 79/100\n",
      "100/100 [==============================] - 1s 7ms/step - loss: 0.0227 - acc: 0.9500\n",
      "Epoch 80/100\n",
      "100/100 [==============================] - 1s 6ms/step - loss: 0.0209 - acc: 0.9700\n",
      "Epoch 81/100\n",
      "100/100 [==============================] - 1s 6ms/step - loss: 0.0207 - acc: 0.9700\n",
      "Epoch 82/100\n",
      "100/100 [==============================] - 1s 5ms/step - loss: 0.0217 - acc: 0.9600\n",
      "Epoch 83/100\n",
      "100/100 [==============================] - 1s 5ms/step - loss: 0.0228 - acc: 0.9600\n",
      "Epoch 84/100\n",
      "100/100 [==============================] - 1s 6ms/step - loss: 0.0208 - acc: 0.9600\n",
      "Epoch 85/100\n"
     ]
    },
    {
     "name": "stdout",
     "output_type": "stream",
     "text": [
      "100/100 [==============================] - 1s 6ms/step - loss: 0.0205 - acc: 0.9600\n",
      "Epoch 86/100\n",
      "100/100 [==============================] - 1s 7ms/step - loss: 0.0210 - acc: 0.9600\n",
      "Epoch 87/100\n",
      "100/100 [==============================] - 1s 8ms/step - loss: 0.0210 - acc: 0.9600\n",
      "Epoch 88/100\n",
      "100/100 [==============================] - 1s 7ms/step - loss: 0.0200 - acc: 0.9700\n",
      "Epoch 89/100\n",
      "100/100 [==============================] - 1s 9ms/step - loss: 0.0189 - acc: 0.9700\n",
      "Epoch 90/100\n",
      "100/100 [==============================] - 1s 6ms/step - loss: 0.0198 - acc: 0.9600\n",
      "Epoch 91/100\n",
      "100/100 [==============================] - 1s 6ms/step - loss: 0.0202 - acc: 0.9700\n",
      "Epoch 92/100\n",
      "100/100 [==============================] - 1s 6ms/step - loss: 0.0197 - acc: 0.9500\n",
      "Epoch 93/100\n",
      "100/100 [==============================] - 1s 5ms/step - loss: 0.0200 - acc: 0.9700\n",
      "Epoch 94/100\n",
      "100/100 [==============================] - 1s 5ms/step - loss: 0.0219 - acc: 0.9600\n",
      "Epoch 95/100\n",
      "100/100 [==============================] - 0s 5ms/step - loss: 0.0198 - acc: 0.9700\n",
      "Epoch 96/100\n",
      "100/100 [==============================] - 0s 5ms/step - loss: 0.0186 - acc: 0.9700\n",
      "Epoch 97/100\n",
      "100/100 [==============================] - 0s 5ms/step - loss: 0.0184 - acc: 0.9600\n",
      "Epoch 98/100\n",
      "100/100 [==============================] - 1s 5ms/step - loss: 0.0222 - acc: 0.9500\n",
      "Epoch 99/100\n",
      "100/100 [==============================] - 0s 5ms/step - loss: 0.0190 - acc: 0.9700\n",
      "Epoch 100/100\n",
      "100/100 [==============================] - 0s 5ms/step - loss: 0.0191 - acc: 0.9700\n",
      "50/50 [==============================] - 1s 28ms/step\n",
      "Accuracy: 98.0 %\n"
     ]
    },
    {
     "data": {
      "image/png": "[encoded data removed]",
      "text/plain": [
       "<Figure size 432x288 with 1 Axes>"
      ]
     },
     "metadata": {
      "needs_background": "light"
     },
     "output_type": "display_data"
    }
   ],
   "source": [
    "from keras.models import Sequential\n",
    "from keras.layers import Dense\n",
    "\n",
    "#Classifier\n",
    "model = Sequential()\n",
    "model.add(Dense(10, input_dim = 4, activation = 'relu'))\n",
    "model.add(Dense(10, activation = 'relu'))\n",
    "model.add(Dense(3, activation = 'sigmoid'))\n",
    "model.compile(loss='mse', optimizer='adam', metrics=['accuracy'])\n",
    "history = model.fit(xb_train, yb_train, epochs=100, batch_size= 1)\n",
    "\n",
    "#Predicts\n",
    "results = model.evaluate(xb_test, yb_test)\n",
    "print('Accuracy:', round(results[1] * 100), '%')\n",
    "\n",
    "#Plots\n",
    "plt.plot(history.history['loss'])\n",
    "plt.title('MLP - Loss')\n",
    "plt.xlabel('Epochs')\n",
    "plt.ylabel('Error')\n",
    "plt.show()"
   ]
  },
  {
   "cell_type": "markdown",
   "metadata": {},
   "source": [
    "# 3 - Random Forests Classifier - RFC"
   ]
  },
  {
   "cell_type": "code",
   "execution_count": 330,
   "metadata": {},
   "outputs": [
    {
     "name": "stdout",
     "output_type": "stream",
     "text": [
      "Accuracy: 98.0 %\n"
     ]
    }
   ],
   "source": [
    "from sklearn.ensemble import RandomForestClassifier\n",
    "\n",
    "#Classifier\n",
    "rfc = RandomForestClassifier(n_estimators=100, max_depth=5, random_state= 0)\n",
    "rfc.fit(xm_train, np.ravel(ym_train))\n",
    "\n",
    "#Predicts\n",
    "print('Accuracy:', (mt.accuracy_score(ym_test, rfc.predict(xm_test)) * 100), '%')"
   ]
  },
  {
   "cell_type": "markdown",
   "metadata": {},
   "source": [
    "# 4 - Support Vector Machine - SVM"
   ]
  },
  {
   "cell_type": "code",
   "execution_count": 333,
   "metadata": {},
   "outputs": [
    {
     "name": "stdout",
     "output_type": "stream",
     "text": [
      "Accuracy: 100.0 %\n"
     ]
    }
   ],
   "source": [
    "from sklearn.svm import SVC\n",
    "\n",
    "#Classifier\n",
    "sv = SVC(gamma='auto')\n",
    "sv.fit(xm_train, np.ravel(ym_train))\n",
    "\n",
    "#Predicts\n",
    "print('Accuracy:', (mt.accuracy_score(ym_test, sv.predict(xm_test)) * 100), '%')"
   ]
  }
 ],
 "metadata": {
  "kernelspec": {
   "display_name": "Python 3",
   "language": "python",
   "name": "python3"
  },
  "language_info": {
   "codemirror_mode": {
    "name": "ipython",
    "version": 3
   },
   "file_extension": ".py",
   "mimetype": "text/x-python",
   "name": "python",
   "nbconvert_exporter": "python",
   "pygments_lexer": "ipython3",
   "version": "3.7.3"
  }
 },
 "nbformat": 4,
 "nbformat_minor": 2
}
